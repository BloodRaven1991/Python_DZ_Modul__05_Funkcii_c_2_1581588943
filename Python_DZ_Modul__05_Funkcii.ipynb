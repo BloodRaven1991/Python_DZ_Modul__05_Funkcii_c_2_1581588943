{
 "cells": [
  {
   "cell_type": "markdown",
   "metadata": {},
   "source": [
    "Задание 1\n",
    "Напишите функцию, вычисляющую произведение\n",
    "элементов списка целых. Список передаётся в качестве параметра. Полученный результат возвращается из функции."
   ]
  },
  {
   "cell_type": "code",
   "execution_count": 2,
   "metadata": {},
   "outputs": [
    {
     "name": "stdout",
     "output_type": "stream",
     "text": [
      "168\n"
     ]
    }
   ],
   "source": [
    "def mult_elem(spisok):\n",
    "    multi = 1\n",
    "    for i in spisok:\n",
    "        multi *= i\n",
    "    return multi\n",
    "\n",
    "number = [3, 2, 7, 4]\n",
    "rezult = mult_elem(number)\n",
    "print(rezult)"
   ]
  },
  {
   "cell_type": "markdown",
   "metadata": {},
   "source": [
    "Задание 2\n",
    "Напишите функцию для нахождения минимума в\n",
    "списке целых. Список передаётся в качестве параметра.\n",
    "Полученный результат возвращается из функции.\n"
   ]
  },
  {
   "cell_type": "code",
   "execution_count": 4,
   "metadata": {},
   "outputs": [
    {
     "name": "stdout",
     "output_type": "stream",
     "text": [
      "2\n"
     ]
    }
   ],
   "source": [
    "def numb_min(spisok):\n",
    "    if not spisok:\n",
    "        return None\n",
    "    minimum = spisok[0]\n",
    "    for b in spisok:\n",
    "        if b < minimum:\n",
    "            minimum = b\n",
    "    return minimum\n",
    "\n",
    "number = [5, 2, 9, 10, 7]\n",
    "rezult = numb_min(number)\n",
    "print(rezult)\n"
   ]
  },
  {
   "cell_type": "markdown",
   "metadata": {},
   "source": [
    "Задание 3\n",
    "Напишите функцию, определяющую количество простых чисел в списке целых. Список передаётся в качестве\n",
    "параметра.Полученный результат возвращается из функции."
   ]
  },
  {
   "cell_type": "code",
   "execution_count": 5,
   "metadata": {},
   "outputs": [
    {
     "name": "stdout",
     "output_type": "stream",
     "text": [
      "5\n"
     ]
    }
   ],
   "source": [
    "def is_prime(n):\n",
    "    if n <= 1:\n",
    "        return False\n",
    "    for i in range(2, int(n**0.5) + 1):\n",
    "        if n % i == 0:\n",
    "            return False\n",
    "    return True\n",
    "\n",
    "def kol_prost_numb(list_1):\n",
    "    count = 0\n",
    "    for a in list_1:\n",
    "        if is_prime(a):\n",
    "            count += 1\n",
    "    return count\n",
    "\n",
    "number = [2, 3, 4, 5, 6, 7, 8, 9, 10, 11]\n",
    "rezult = kol_prost_numb(number)\n",
    "print(rezult)\n"
   ]
  },
  {
   "cell_type": "markdown",
   "metadata": {},
   "source": [
    "Задание 4\n",
    "Напишите функцию, удаляющую из списка целых\n",
    "некоторое заданное число. Из функции нужно вернуть\n",
    "количество удаленных элементов."
   ]
  },
  {
   "cell_type": "code",
   "execution_count": 7,
   "metadata": {},
   "outputs": [
    {
     "name": "stdout",
     "output_type": "stream",
     "text": [
      "2\n",
      "[7, 8, 4, 8, 5]\n"
     ]
    }
   ],
   "source": [
    "def del_numb(spisok, num_2):\n",
    "    first_razmer = len(spisok)\n",
    "    spisok[:] = [x for x in spisok if x != num_2]\n",
    "    kol_del = first_razmer - len(spisok)\n",
    "    return kol_del\n",
    "\n",
    "\n",
    "number = [7, 2, 8, 4, 8, 5, 2]\n",
    "del_number = 2\n",
    "rezult = del_numb(number, del_number)\n",
    "print(rezult)\n",
    "print(number)\n"
   ]
  },
  {
   "cell_type": "markdown",
   "metadata": {},
   "source": [
    "Задание 5\n",
    "Напишите функцию, которая получает два списка в\n",
    "качестве параметра и возвращает список, содержащий\n",
    "элементы обоих списков."
   ]
  },
  {
   "cell_type": "code",
   "execution_count": 9,
   "metadata": {},
   "outputs": [
    {
     "name": "stdout",
     "output_type": "stream",
     "text": [
      "[8, 4, 9, 1, 3, 5]\n"
     ]
    }
   ],
   "source": [
    "def merge_lists(list1, list2):\n",
    "    return list1 + list2\n",
    "\n",
    "list_a = [8, 4, 9]\n",
    "list_b = [1, 3, 5]\n",
    "result = merge_lists(list_a, list_b)\n",
    "print(result)\n"
   ]
  },
  {
   "cell_type": "markdown",
   "metadata": {},
   "source": [
    "Задание 6\n",
    "Напишите функцию, высчитывающую степень каждого\n",
    "элемента списка целых. Значение для степени передаётся\n",
    "в качестве параметра, список тоже передаётся в качестве\n",
    "параметра. Функция возвращает новый список, содержащий полученные результаты."
   ]
  },
  {
   "cell_type": "code",
   "execution_count": 11,
   "metadata": {},
   "outputs": [
    {
     "name": "stdout",
     "output_type": "stream",
     "text": [
      "[64, 729, 27, 1, 1000]\n"
     ]
    }
   ],
   "source": [
    "def power_elements(int_list, exponent):\n",
    "    return [x ** exponent for x in int_list]\n",
    "\n",
    "numbers = [4, 9, 3, 1, 10]\n",
    "exponent = 3\n",
    "result = power_elements(numbers, exponent)\n",
    "print(result)\n"
   ]
  }
 ],
 "metadata": {
  "kernelspec": {
   "display_name": "Python 3",
   "language": "python",
   "name": "python3"
  },
  "language_info": {
   "codemirror_mode": {
    "name": "ipython",
    "version": 3
   },
   "file_extension": ".py",
   "mimetype": "text/x-python",
   "name": "python",
   "nbconvert_exporter": "python",
   "pygments_lexer": "ipython3",
   "version": "3.12.6"
  }
 },
 "nbformat": 4,
 "nbformat_minor": 2
}
